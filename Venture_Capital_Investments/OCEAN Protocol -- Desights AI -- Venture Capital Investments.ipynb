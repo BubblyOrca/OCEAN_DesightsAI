{
 "cells": [
  {
   "cell_type": "markdown",
   "id": "0833bcf7",
   "metadata": {},
   "source": [
    "# Venture Capital Investments\n",
    "This competition invites data scientists, analysts, and engineers to explore the dynamic world of startup and venture capital investments. By analyzing extensive datasets and leveraging machine learning techniques, participants will derive insights into the startup ecosystem, identify critical factors influencing startup success, and develop predictive models to enhance investment decision-making.\n"
   ]
  },
  {
   "cell_type": "code",
   "execution_count": 1,
   "id": "587013dd",
   "metadata": {},
   "outputs": [],
   "source": [
    "import pandas as pd\n",
    "import numpy as np\n",
    "import os\n",
    "\n",
    "import webbrowser\n",
    "import seaborn\n",
    "import matplotlib.pyplot as plt"
   ]
  },
  {
   "cell_type": "code",
   "execution_count": 2,
   "id": "8646effe",
   "metadata": {},
   "outputs": [
    {
     "name": "stdout",
     "output_type": "stream",
     "text": [
      "pip 24.0 from /opt/homebrew/lib/python3.10/site-packages/pip (python 3.10)\n",
      "Requirement already satisfied: pip in /opt/homebrew/lib/python3.10/site-packages (24.0)\n"
     ]
    }
   ],
   "source": [
    "!pip --version\n",
    "!pip install pip --upgrade"
   ]
  },
  {
   "cell_type": "code",
   "execution_count": 3,
   "id": "3598f859",
   "metadata": {
    "scrolled": false
   },
   "outputs": [
    {
     "name": "stdout",
     "output_type": "stream",
     "text": [
      "Requirement already satisfied: scikit-learn in /opt/homebrew/lib/python3.10/site-packages (1.4.2)\n",
      "Requirement already satisfied: numpy>=1.19.5 in /opt/homebrew/lib/python3.10/site-packages (from scikit-learn) (1.25.0)\n",
      "Requirement already satisfied: scipy>=1.6.0 in /opt/homebrew/lib/python3.10/site-packages (from scikit-learn) (1.13.0)\n",
      "Requirement already satisfied: joblib>=1.2.0 in /opt/homebrew/lib/python3.10/site-packages (from scikit-learn) (1.4.0)\n",
      "Requirement already satisfied: threadpoolctl>=2.0.0 in /opt/homebrew/lib/python3.10/site-packages (from scikit-learn) (3.4.0)\n"
     ]
    }
   ],
   "source": [
    "!pip install scikit-learn"
   ]
  },
  {
   "cell_type": "code",
   "execution_count": 4,
   "id": "41de099c",
   "metadata": {},
   "outputs": [],
   "source": [
    "# import scikit\n",
    "#from scikit-learn.model_selection import train_test_split"
   ]
  },
  {
   "cell_type": "code",
   "execution_count": 5,
   "id": "e31c28a1",
   "metadata": {},
   "outputs": [
    {
     "name": "stdout",
     "output_type": "stream",
     "text": [
      "Requirement already satisfied: theano in /opt/homebrew/lib/python3.10/site-packages (1.0.5)\r\n",
      "Requirement already satisfied: numpy>=1.9.1 in /opt/homebrew/lib/python3.10/site-packages (from theano) (1.25.0)\r\n",
      "Requirement already satisfied: scipy>=0.14 in /opt/homebrew/lib/python3.10/site-packages (from theano) (1.13.0)\r\n",
      "Requirement already satisfied: six>=1.9.0 in /opt/homebrew/lib/python3.10/site-packages (from theano) (1.16.0)\r\n"
     ]
    }
   ],
   "source": [
    "!pip install theano"
   ]
  },
  {
   "cell_type": "code",
   "execution_count": 6,
   "id": "3bb39773",
   "metadata": {
    "scrolled": true
   },
   "outputs": [
    {
     "ename": "ModuleNotFoundError",
     "evalue": "No module named 'theano'",
     "output_type": "error",
     "traceback": [
      "\u001b[0;31m---------------------------------------------------------------------------\u001b[0m",
      "\u001b[0;31mModuleNotFoundError\u001b[0m                       Traceback (most recent call last)",
      "Input \u001b[0;32mIn [6]\u001b[0m, in \u001b[0;36m<cell line: 1>\u001b[0;34m()\u001b[0m\n\u001b[0;32m----> 1\u001b[0m \u001b[38;5;28;01mimport\u001b[39;00m \u001b[38;5;21;01mtheano\u001b[39;00m\n\u001b[1;32m      2\u001b[0m \u001b[38;5;28;01mfrom\u001b[39;00m \u001b[38;5;21;01mtheano\u001b[39;00m \u001b[38;5;28;01mimport\u001b[39;00m tensor\n\u001b[1;32m      4\u001b[0m \u001b[38;5;28;01mfrom\u001b[39;00m \u001b[38;5;21;01mtheano\u001b[39;00m \u001b[38;5;28;01mimport\u001b[39;00m \u001b[38;5;241m*\u001b[39m\n",
      "\u001b[0;31mModuleNotFoundError\u001b[0m: No module named 'theano'"
     ]
    }
   ],
   "source": [
    "#import theano\n",
    "#from theano import tensor\n",
    "\n",
    "#from theano import *\n",
    "#import theano.tensor as T"
   ]
  },
  {
   "cell_type": "code",
   "execution_count": null,
   "id": "069d7a7f",
   "metadata": {},
   "outputs": [],
   "source": [
    "# Declaring variables\n",
    "a = tensor.dscalar()\n",
    "b = tensor.dscalar()\n",
    "# Subtracting \n",
    "res = a - b\n",
    "# Converting it to a callable object \n",
    "# so that it takes matrix as parameters\n",
    "func = theano.function([a, b], res)\n",
    "# Calling function\n",
    "assert 20.0 == func(30.5, 10.5)"
   ]
  },
  {
   "cell_type": "markdown",
   "id": "29a32603",
   "metadata": {},
   "source": [
    "Requirements\n",
    "\n",
    "Introduction: Provide a brief overview of the purpose of the analysis and what the report aims to communicate. Ensure that the language is simple, jargon-free, and engaging.\n",
    "Key Findings: Highlight the main insights and discoveries from your data analysis in a straightforward and digestible manner. Utilize layman's terms to explain any analytical concepts or findings.\n",
    "Data Visualizations: Include clear and intuitive visualizations that complement your findings. Ensure that charts, graphs, and tables are easily interpreted and include concise explanations.\n",
    "In-depth Analysis: Detail your analysis of each question, ensuring that the explanations of your findings are clear, compelling, and non-technical. Use analogies or simple comparisons where possible to elucidate your points.\n",
    "Conclusion: Summarize the key takeaways and potential implications of your findings. Provide any recommendations or next steps straightforwardly.\n",
    "Appendix (if necessary): Include any additional information, charts, or data that support your analysis but may not be critical for the main body of the report."
   ]
  },
  {
   "cell_type": "code",
   "execution_count": null,
   "id": "0137713a",
   "metadata": {},
   "outputs": [],
   "source": [
    "dataset2 = pd.read_csv(\"dataset2.csv\")\n",
    "dataset2.describe()"
   ]
  },
  {
   "cell_type": "code",
   "execution_count": null,
   "id": "d4ab72f7",
   "metadata": {},
   "outputs": [],
   "source": [
    "dataset3 = pd.read_csv(\"dataset3.csv\")\n",
    "dataset3.describe()"
   ]
  },
  {
   "cell_type": "code",
   "execution_count": null,
   "id": "411c7365",
   "metadata": {},
   "outputs": [],
   "source": [
    "dataset4 = pd.read_csv(\"dataset4.csv\")\n",
    "dataset4.describe()"
   ]
  },
  {
   "cell_type": "code",
   "execution_count": null,
   "id": "4c5e1cb6",
   "metadata": {},
   "outputs": [],
   "source": [
    "acq = pd.read_csv(\"dataset1/acquisitions.csv\")\n",
    "acq.head()"
   ]
  },
  {
   "cell_type": "code",
   "execution_count": null,
   "id": "7db971ab",
   "metadata": {},
   "outputs": [],
   "source": [
    "acq[\"price_amount\"]"
   ]
  },
  {
   "cell_type": "code",
   "execution_count": null,
   "id": "fa0f60ee",
   "metadata": {},
   "outputs": [],
   "source": [
    "data_by_date = pd.read_csv('dataset1/acquisitions.csv', parse_dates=['acquired_at'],\n",
    "                  index_col='acquired_at')"
   ]
  },
  {
   "cell_type": "code",
   "execution_count": null,
   "id": "e2fa291f",
   "metadata": {},
   "outputs": [],
   "source": [
    "data_by_date"
   ]
  },
  {
   "cell_type": "code",
   "execution_count": null,
   "id": "51ac5c62",
   "metadata": {},
   "outputs": [],
   "source": [
    "data_by_date.plot()\n",
    "plt.tight_layout()"
   ]
  },
  {
   "cell_type": "markdown",
   "id": "2bf6b9f1",
   "metadata": {},
   "source": [
    "Data Analysis on Date: The years 1980 to 1990 were an excellent time to place investments during a shift in presidential power and a new focus on the economic prosperity of America."
   ]
  },
  {
   "cell_type": "code",
   "execution_count": null,
   "id": "856957c4",
   "metadata": {},
   "outputs": [],
   "source": [
    "degrees = pd.read_csv(\"dataset1/degrees.csv\")\n",
    "degrees.head()"
   ]
  },
  {
   "cell_type": "markdown",
   "id": "a2914226",
   "metadata": {},
   "source": [
    "Data Analysis on Degree: The goal of this analysis is to aggregate all founders with the same degrees. The datasets with then be merged to see which founders, based on degree type are more likely to get aquired. I would like to avoid correlating founder with amount fundraised because a successful raise does not mean the founder/founding team is excellent. Just because a startup raised money does not constitute it as successful. This is my attempt at preventing confirmation bias."
   ]
  },
  {
   "cell_type": "code",
   "execution_count": null,
   "id": "58cbeff8",
   "metadata": {},
   "outputs": [],
   "source": [
    "people = pd.read_csv(\"dataset1/people.csv\")\n",
    "people.head()"
   ]
  },
  {
   "cell_type": "code",
   "execution_count": null,
   "id": "8c7b5eb1",
   "metadata": {
    "scrolled": true
   },
   "outputs": [],
   "source": [
    "result = pd.merge( degrees, people, on='id'\n",
    ")\n",
    "result.head()\n",
    "\n",
    "# Merging person by degree"
   ]
  },
  {
   "cell_type": "code",
   "execution_count": null,
   "id": "64430703",
   "metadata": {
    "scrolled": true
   },
   "outputs": [],
   "source": [
    "result2 = pd.merge(result, acq, on='id'\n",
    ")\n",
    "result2.head()\n",
    "\n",
    "\n",
    "# Merging person by degree"
   ]
  },
  {
   "cell_type": "code",
   "execution_count": null,
   "id": "d878018d",
   "metadata": {
    "scrolled": true
   },
   "outputs": [],
   "source": [
    "df = pd.DataFrame(result2) \n",
    "  \n",
    "X = df['degree_type']\n",
    "Y = df['price_amount']\n",
    "\n",
    "# Plot the data using bar() method \n",
    "plt.bar(X[0:20], Y[0:20]) # 9562 records\n",
    "plt.title(\"Acquired startups by founder's degree\") \n",
    "plt.xlabel(\"Founder\") \n",
    "plt.ylabel(\"Amount startup acquired @\") \n",
    "  \n",
    "# Showing the plot \n",
    "plt.show() \n",
    "plt.tight_layout()\n",
    "plt.tight_layout()"
   ]
  },
  {
   "cell_type": "markdown",
   "id": "f7ad9cfc",
   "metadata": {},
   "source": [
    "Conclusion: \"Education kinda matters but it kinda doesn't\"\n",
    "In the dataset, founders with Bachelor degrees (Bachelor of Arts) are more likely to be acquired. BAs by nature are administered by university or college's business schools."
   ]
  },
  {
   "cell_type": "code",
   "execution_count": null,
   "id": "61142f1c",
   "metadata": {},
   "outputs": [],
   "source": [
    "funding_rounds = pd.read_csv(\"dataset1/funding_rounds.csv\")\n",
    "funding_rounds.head()"
   ]
  },
  {
   "cell_type": "code",
   "execution_count": null,
   "id": "9b652640",
   "metadata": {},
   "outputs": [],
   "source": [
    "funds = pd.read_csv(\"dataset1/funds.csv\")\n",
    "funds.head()"
   ]
  },
  {
   "cell_type": "code",
   "execution_count": null,
   "id": "61bedc03",
   "metadata": {},
   "outputs": [],
   "source": [
    "investments = pd.read_csv(\"dataset1/investments.csv\")\n",
    "investments.head()"
   ]
  },
  {
   "cell_type": "code",
   "execution_count": null,
   "id": "e08afcbe",
   "metadata": {},
   "outputs": [],
   "source": [
    "ipos = pd.read_csv(\"dataset1/ipos.csv\")\n",
    "ipos.head()"
   ]
  },
  {
   "cell_type": "code",
   "execution_count": null,
   "id": "c1ea6864",
   "metadata": {},
   "outputs": [],
   "source": [
    "milestones = pd.read_csv(\"dataset1/milestones.csv\")\n",
    "milestones.head()"
   ]
  },
  {
   "cell_type": "code",
   "execution_count": null,
   "id": "ca061c5c",
   "metadata": {},
   "outputs": [],
   "source": [
    "objects = pd.read_csv(\"dataset1/objects.csv\")\n",
    "objects.head()"
   ]
  },
  {
   "cell_type": "code",
   "execution_count": null,
   "id": "35a76646",
   "metadata": {},
   "outputs": [],
   "source": [
    "offices = pd.read_csv(\"dataset1/offices.csv\")\n",
    "offices.head()"
   ]
  },
  {
   "cell_type": "code",
   "execution_count": null,
   "id": "0369bd95",
   "metadata": {},
   "outputs": [],
   "source": [
    "relationships = pd.read_csv(\"dataset1/relationships.csv\")\n",
    "relationships.head()"
   ]
  },
  {
   "cell_type": "code",
   "execution_count": null,
   "id": "f203c23c",
   "metadata": {},
   "outputs": [],
   "source": []
  }
 ],
 "metadata": {
  "kernelspec": {
   "display_name": "Python 3 (ipykernel)",
   "language": "python",
   "name": "python3"
  },
  "language_info": {
   "codemirror_mode": {
    "name": "ipython",
    "version": 3
   },
   "file_extension": ".py",
   "mimetype": "text/x-python",
   "name": "python",
   "nbconvert_exporter": "python",
   "pygments_lexer": "ipython3",
   "version": "3.9.17"
  }
 },
 "nbformat": 4,
 "nbformat_minor": 5
}
